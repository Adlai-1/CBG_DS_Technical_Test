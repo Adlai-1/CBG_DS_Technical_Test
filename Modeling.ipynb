{
 "cells": [
  {
   "cell_type": "code",
   "execution_count": 1,
   "metadata": {},
   "outputs": [],
   "source": [
    "# imports\n",
    "import pandas as pd\n",
    "from sklearn.pipeline import Pipeline\n",
    "from imblearn.over_sampling import SMOTE\n",
    "from sklearn.compose import ColumnTransformer\n",
    "from sklearn.model_selection import train_test_split\n",
    "from sklearn.preprocessing import StandardScaler, OneHotEncoder"
   ]
  },
  {
   "cell_type": "code",
   "execution_count": 2,
   "metadata": {},
   "outputs": [],
   "source": [
    "# model imports\n",
    "from sklearn.linear_model import LogisticRegression\n",
    "from sklearn.svm import LinearSVC\n",
    "from sklearn.svm import SVC\n",
    "from sklearn.neighbors import KNeighborsClassifier\n",
    "from sklearn.metrics import recall_score, precision_score, f1_score, auc, roc_auc_score, root_mean_squared_error"
   ]
  },
  {
   "cell_type": "code",
   "execution_count": 3,
   "metadata": {},
   "outputs": [],
   "source": [
    "data = pd.read_csv('Data/combined_dataset.csv')"
   ]
  },
  {
   "cell_type": "code",
   "execution_count": 4,
   "metadata": {},
   "outputs": [
    {
     "data": {
      "text/html": [
       "<div>\n",
       "<style scoped>\n",
       "    .dataframe tbody tr th:only-of-type {\n",
       "        vertical-align: middle;\n",
       "    }\n",
       "\n",
       "    .dataframe tbody tr th {\n",
       "        vertical-align: top;\n",
       "    }\n",
       "\n",
       "    .dataframe thead th {\n",
       "        text-align: right;\n",
       "    }\n",
       "</style>\n",
       "<table border=\"1\" class=\"dataframe\">\n",
       "  <thead>\n",
       "    <tr style=\"text-align: right;\">\n",
       "      <th></th>\n",
       "      <th>Unnamed: 0</th>\n",
       "      <th>Job Title</th>\n",
       "      <th>Department</th>\n",
       "      <th>Age</th>\n",
       "      <th>Gender</th>\n",
       "      <th>Marital Status</th>\n",
       "      <th>Years of Service</th>\n",
       "      <th>Salary</th>\n",
       "      <th>Exited</th>\n",
       "    </tr>\n",
       "  </thead>\n",
       "  <tbody>\n",
       "    <tr>\n",
       "      <th>0</th>\n",
       "      <td>0</td>\n",
       "      <td>HR Specialist</td>\n",
       "      <td>Human Resources</td>\n",
       "      <td>25</td>\n",
       "      <td>Male</td>\n",
       "      <td>Married</td>\n",
       "      <td>2</td>\n",
       "      <td>537.25</td>\n",
       "      <td>0</td>\n",
       "    </tr>\n",
       "    <tr>\n",
       "      <th>1</th>\n",
       "      <td>1</td>\n",
       "      <td>Project Manager</td>\n",
       "      <td>Sales &amp; Marketing</td>\n",
       "      <td>53</td>\n",
       "      <td>Male</td>\n",
       "      <td>Single</td>\n",
       "      <td>8</td>\n",
       "      <td>154.13</td>\n",
       "      <td>0</td>\n",
       "    </tr>\n",
       "    <tr>\n",
       "      <th>2</th>\n",
       "      <td>2</td>\n",
       "      <td>Billing Specialist</td>\n",
       "      <td>IT &amp; Software</td>\n",
       "      <td>44</td>\n",
       "      <td>Female</td>\n",
       "      <td>Married</td>\n",
       "      <td>8</td>\n",
       "      <td>368.54</td>\n",
       "      <td>0</td>\n",
       "    </tr>\n",
       "    <tr>\n",
       "      <th>3</th>\n",
       "      <td>3</td>\n",
       "      <td>Marketing Analyst</td>\n",
       "      <td>Data Analytics</td>\n",
       "      <td>37</td>\n",
       "      <td>Female</td>\n",
       "      <td>Married</td>\n",
       "      <td>7</td>\n",
       "      <td>269.92</td>\n",
       "      <td>0</td>\n",
       "    </tr>\n",
       "    <tr>\n",
       "      <th>4</th>\n",
       "      <td>4</td>\n",
       "      <td>Product Manager</td>\n",
       "      <td>IT &amp; Software</td>\n",
       "      <td>30</td>\n",
       "      <td>Male</td>\n",
       "      <td>Single</td>\n",
       "      <td>4</td>\n",
       "      <td>131.17</td>\n",
       "      <td>0</td>\n",
       "    </tr>\n",
       "  </tbody>\n",
       "</table>\n",
       "</div>"
      ],
      "text/plain": [
       "   Unnamed: 0           Job Title         Department  Age  Gender  \\\n",
       "0           0       HR Specialist    Human Resources   25    Male   \n",
       "1           1     Project Manager  Sales & Marketing   53    Male   \n",
       "2           2  Billing Specialist      IT & Software   44  Female   \n",
       "3           3   Marketing Analyst     Data Analytics   37  Female   \n",
       "4           4     Product Manager      IT & Software   30    Male   \n",
       "\n",
       "  Marital Status  Years of Service  Salary  Exited  \n",
       "0        Married                 2  537.25       0  \n",
       "1         Single                 8  154.13       0  \n",
       "2        Married                 8  368.54       0  \n",
       "3        Married                 7  269.92       0  \n",
       "4         Single                 4  131.17       0  "
      ]
     },
     "execution_count": 4,
     "metadata": {},
     "output_type": "execute_result"
    }
   ],
   "source": [
    "data.head()"
   ]
  },
  {
   "cell_type": "code",
   "execution_count": 5,
   "metadata": {},
   "outputs": [
    {
     "data": {
      "text/plain": [
       "(4320, 9)"
      ]
     },
     "execution_count": 5,
     "metadata": {},
     "output_type": "execute_result"
    }
   ],
   "source": [
    "data.shape"
   ]
  },
  {
   "cell_type": "code",
   "execution_count": 6,
   "metadata": {},
   "outputs": [
    {
     "data": {
      "text/plain": [
       "Index(['Unnamed: 0', 'Job Title', 'Department', 'Age', 'Gender',\n",
       "       'Marital Status', 'Years of Service', 'Salary', 'Exited'],\n",
       "      dtype='object')"
      ]
     },
     "execution_count": 6,
     "metadata": {},
     "output_type": "execute_result"
    }
   ],
   "source": [
    "data.columns"
   ]
  },
  {
   "cell_type": "code",
   "execution_count": 7,
   "metadata": {},
   "outputs": [],
   "source": [
    "# drop unwanted column\n",
    "data.drop(columns=['Unnamed: 0'], inplace=True)"
   ]
  },
  {
   "cell_type": "code",
   "execution_count": 8,
   "metadata": {},
   "outputs": [
    {
     "data": {
      "text/html": [
       "<div>\n",
       "<style scoped>\n",
       "    .dataframe tbody tr th:only-of-type {\n",
       "        vertical-align: middle;\n",
       "    }\n",
       "\n",
       "    .dataframe tbody tr th {\n",
       "        vertical-align: top;\n",
       "    }\n",
       "\n",
       "    .dataframe thead th {\n",
       "        text-align: right;\n",
       "    }\n",
       "</style>\n",
       "<table border=\"1\" class=\"dataframe\">\n",
       "  <thead>\n",
       "    <tr style=\"text-align: right;\">\n",
       "      <th></th>\n",
       "      <th>Job Title</th>\n",
       "      <th>Department</th>\n",
       "      <th>Age</th>\n",
       "      <th>Gender</th>\n",
       "      <th>Marital Status</th>\n",
       "      <th>Years of Service</th>\n",
       "      <th>Salary</th>\n",
       "      <th>Exited</th>\n",
       "    </tr>\n",
       "  </thead>\n",
       "  <tbody>\n",
       "    <tr>\n",
       "      <th>0</th>\n",
       "      <td>HR Specialist</td>\n",
       "      <td>Human Resources</td>\n",
       "      <td>25</td>\n",
       "      <td>Male</td>\n",
       "      <td>Married</td>\n",
       "      <td>2</td>\n",
       "      <td>537.25</td>\n",
       "      <td>0</td>\n",
       "    </tr>\n",
       "    <tr>\n",
       "      <th>1</th>\n",
       "      <td>Project Manager</td>\n",
       "      <td>Sales &amp; Marketing</td>\n",
       "      <td>53</td>\n",
       "      <td>Male</td>\n",
       "      <td>Single</td>\n",
       "      <td>8</td>\n",
       "      <td>154.13</td>\n",
       "      <td>0</td>\n",
       "    </tr>\n",
       "    <tr>\n",
       "      <th>2</th>\n",
       "      <td>Billing Specialist</td>\n",
       "      <td>IT &amp; Software</td>\n",
       "      <td>44</td>\n",
       "      <td>Female</td>\n",
       "      <td>Married</td>\n",
       "      <td>8</td>\n",
       "      <td>368.54</td>\n",
       "      <td>0</td>\n",
       "    </tr>\n",
       "    <tr>\n",
       "      <th>3</th>\n",
       "      <td>Marketing Analyst</td>\n",
       "      <td>Data Analytics</td>\n",
       "      <td>37</td>\n",
       "      <td>Female</td>\n",
       "      <td>Married</td>\n",
       "      <td>7</td>\n",
       "      <td>269.92</td>\n",
       "      <td>0</td>\n",
       "    </tr>\n",
       "    <tr>\n",
       "      <th>4</th>\n",
       "      <td>Product Manager</td>\n",
       "      <td>IT &amp; Software</td>\n",
       "      <td>30</td>\n",
       "      <td>Male</td>\n",
       "      <td>Single</td>\n",
       "      <td>4</td>\n",
       "      <td>131.17</td>\n",
       "      <td>0</td>\n",
       "    </tr>\n",
       "  </tbody>\n",
       "</table>\n",
       "</div>"
      ],
      "text/plain": [
       "            Job Title         Department  Age  Gender Marital Status  \\\n",
       "0       HR Specialist    Human Resources   25    Male        Married   \n",
       "1     Project Manager  Sales & Marketing   53    Male         Single   \n",
       "2  Billing Specialist      IT & Software   44  Female        Married   \n",
       "3   Marketing Analyst     Data Analytics   37  Female        Married   \n",
       "4     Product Manager      IT & Software   30    Male         Single   \n",
       "\n",
       "   Years of Service  Salary  Exited  \n",
       "0                 2  537.25       0  \n",
       "1                 8  154.13       0  \n",
       "2                 8  368.54       0  \n",
       "3                 7  269.92       0  \n",
       "4                 4  131.17       0  "
      ]
     },
     "execution_count": 8,
     "metadata": {},
     "output_type": "execute_result"
    }
   ],
   "source": [
    "data.head()"
   ]
  },
  {
   "cell_type": "code",
   "execution_count": 9,
   "metadata": {},
   "outputs": [],
   "source": [
    "# feature segregation\n",
    "x_data = data.drop('Exited', axis=1)\n",
    "y_data = data['Exited']"
   ]
  },
  {
   "cell_type": "code",
   "execution_count": 10,
   "metadata": {},
   "outputs": [],
   "source": [
    "# Create transformers for numerical and categorical features\n",
    "categorical_features = ['Job Title', 'Department', 'Gender', 'Marital Status']\n",
    "numerical_features = ['Age', 'Years of Service', 'Salary']\n",
    "\n",
    "numerical_transformer = Pipeline(steps=[\n",
    "    ('scaler', StandardScaler())\n",
    "])\n",
    "\n",
    "categorical_transformer = Pipeline(steps=[\n",
    "    ('onehot', OneHotEncoder(handle_unknown='ignore'))\n",
    "])\n",
    "\n",
    "# Create preprocessor\n",
    "preprocessor = ColumnTransformer(\n",
    "    transformers=[\n",
    "        ('num', numerical_transformer, numerical_features),\n",
    "        ('cat', categorical_transformer, categorical_features)\n",
    "    ]\n",
    ")\n",
    "\n",
    "# Apply preprocessing and SMOTE (oversampling technique)\n",
    "smote = SMOTE(random_state=42)\n",
    "X_transformed = preprocessor.fit_transform(x_data)\n",
    "X_resampled, y_resampled = smote.fit_resample(X_transformed, y_data)"
   ]
  },
  {
   "cell_type": "code",
   "execution_count": 11,
   "metadata": {},
   "outputs": [],
   "source": [
    "# split data\n",
    "train_x, test_x, train_y, test_y = train_test_split(X_resampled, y_resampled, test_size=0.3, random_state=42)"
   ]
  },
  {
   "cell_type": "code",
   "execution_count": 12,
   "metadata": {},
   "outputs": [],
   "source": [
    "# model training\n",
    "# we'll use different models and determine the best one\n",
    "# based on evaluation metrics\n",
    "\n",
    "lr_model = LogisticRegression(max_iter=200)\n",
    "lSVC_model = LinearSVC(max_iter=200)\n",
    "svc_model = SVC(max_iter=200, kernel='sigmoid')\n",
    "knn_model = KNeighborsClassifier(n_neighbors=4)"
   ]
  },
  {
   "cell_type": "code",
   "execution_count": 13,
   "metadata": {},
   "outputs": [
    {
     "name": "stderr",
     "output_type": "stream",
     "text": [
      "/home/david/Desktop/CBG-Assignment/.venv/lib/python3.12/site-packages/sklearn/svm/_base.py:305: ConvergenceWarning: Solver terminated early (max_iter=200).  Consider pre-processing your data with StandardScaler or MinMaxScaler.\n",
      "  warnings.warn(\n"
     ]
    }
   ],
   "source": [
    "# train models\n",
    "def train_all_models(train_x, train_y, models=[\n",
    "    lr_model, svc_model, knn_model, lSVC_model\n",
    "]):\n",
    "    for model in models:\n",
    "        model.fit(train_x, train_y)\n",
    "\n",
    "train_all_models(train_x, train_y)"
   ]
  },
  {
   "cell_type": "code",
   "execution_count": 14,
   "metadata": {},
   "outputs": [
    {
     "name": "stdout",
     "output_type": "stream",
     "text": [
      "                 Model      RMSE    Recall  Precision  F1 Score   ROC AUC\n",
      "3                  KNN  0.439155  0.915604   0.745208  0.821664  0.810253\n",
      "0  Logistic Regression  0.596418  0.647694   0.629771  0.638607  0.644383\n",
      "1           Linear SVC  0.598411  0.646712   0.627022  0.636715  0.642043\n",
      "2                  SVC  0.632456  0.721295   0.569326  0.636364  0.603478\n"
     ]
    }
   ],
   "source": [
    "# evaluate models on specific metrics\n",
    "def evaluate_models(test_x, test_y, models_dict={'Logistic Regression': lr_model, \n",
    "                                                'Linear SVC': lSVC_model,\n",
    "                                                'SVC': svc_model, \n",
    "                                                'KNN': knn_model}):\n",
    "    model_names = []\n",
    "    rmse_scores = []\n",
    "    recall_scores = []\n",
    "    precision_scores = []\n",
    "    f1_scores = []\n",
    "    roc_auc_scores = []\n",
    "    \n",
    "    for name, model in models_dict.items():\n",
    "        y_pred = model.predict(test_x)\n",
    "        \n",
    "        model_names.append(name)\n",
    "        rmse_scores.append(root_mean_squared_error(test_y, y_pred))\n",
    "        recall_scores.append(recall_score(test_y, y_pred))\n",
    "        precision_scores.append(precision_score(test_y, y_pred))\n",
    "        f1_scores.append(f1_score(test_y, y_pred))\n",
    "        roc_auc_scores.append(roc_auc_score(test_y, y_pred))\n",
    "    \n",
    "    results_df = pd.DataFrame({\n",
    "        'Model': model_names,\n",
    "        'RMSE': rmse_scores,\n",
    "        'Recall': recall_scores,\n",
    "        'Precision': precision_scores,\n",
    "        'F1 Score': f1_scores,\n",
    "        'ROC AUC': roc_auc_scores\n",
    "    })\n",
    "    \n",
    "    return results_df.sort_values('F1 Score', ascending=False)\n",
    "\n",
    "# run evaluation\n",
    "results = evaluate_models(test_x, test_y)\n",
    "print(results)"
   ]
  },
  {
   "cell_type": "code",
   "execution_count": 15,
   "metadata": {},
   "outputs": [
    {
     "data": {
      "text/plain": [
       "array([[0.75, 0.25]])"
      ]
     },
     "execution_count": 15,
     "metadata": {},
     "output_type": "execute_result"
    }
   ],
   "source": [
    "# from the analysis, KNN is the best option to use as our predictive model.\n",
    "knn_model.predict_proba(test_x[10])"
   ]
  },
  {
   "cell_type": "code",
   "execution_count": 16,
   "metadata": {},
   "outputs": [
    {
     "data": {
      "text/plain": [
       "array([0])"
      ]
     },
     "execution_count": 16,
     "metadata": {},
     "output_type": "execute_result"
    }
   ],
   "source": [
    "knn_model.predict(test_x[10])"
   ]
  },
  {
   "cell_type": "code",
   "execution_count": 17,
   "metadata": {},
   "outputs": [
    {
     "data": {
      "text/plain": [
       "np.int64(0)"
      ]
     },
     "execution_count": 17,
     "metadata": {},
     "output_type": "execute_result"
    }
   ],
   "source": [
    "test_y.values[10]"
   ]
  },
  {
   "cell_type": "code",
   "execution_count": 18,
   "metadata": {},
   "outputs": [],
   "source": [
    "def predict_prob(data: any):\n",
    "    \"\"\"Function only takes single entries\"\"\"\n",
    "    res = knn_model.predict_proba(data)\n",
    "    return f\"Probility of exiting: {res[0][1]*100}%\""
   ]
  },
  {
   "cell_type": "code",
   "execution_count": 19,
   "metadata": {},
   "outputs": [
    {
     "data": {
      "text/plain": [
       "'Probility of exiting: 25.0%'"
      ]
     },
     "execution_count": 19,
     "metadata": {},
     "output_type": "execute_result"
    }
   ],
   "source": [
    "predict_prob(test_x[20])"
   ]
  },
  {
   "cell_type": "code",
   "execution_count": 20,
   "metadata": {},
   "outputs": [
    {
     "data": {
      "text/plain": [
       "np.int64(0)"
      ]
     },
     "execution_count": 20,
     "metadata": {},
     "output_type": "execute_result"
    }
   ],
   "source": [
    "test_y.values[20]"
   ]
  },
  {
   "cell_type": "code",
   "execution_count": null,
   "metadata": {},
   "outputs": [],
   "source": [
    "# run preprocessor.fit('your csv file for prediction here')\n",
    "# before passing it as parameters for the functions below\n",
    "# testData = preprocessor.fit_transform('your loaded csv file')"
   ]
  },
  {
   "cell_type": "code",
   "execution_count": 21,
   "metadata": {},
   "outputs": [],
   "source": [
    "def predict(data:any):\n",
    "    \"\"\"Function only takes single entries\"\"\"\n",
    "    res = knn_model.predict(data)\n",
    "    if res == 0: return 'Not-Exiting'\n",
    "    else: return 'Exiting'"
   ]
  },
  {
   "cell_type": "code",
   "execution_count": 22,
   "metadata": {},
   "outputs": [
    {
     "data": {
      "text/plain": [
       "'Not-Exiting'"
      ]
     },
     "execution_count": 22,
     "metadata": {},
     "output_type": "execute_result"
    }
   ],
   "source": [
    "predict(test_x[20])"
   ]
  },
  {
   "cell_type": "code",
   "execution_count": 23,
   "metadata": {},
   "outputs": [],
   "source": [
    "def exit_count(data:any):\n",
    "    \"\"\"Returns the total number of predicted exits.\"\"\"\n",
    "    total = 0\n",
    "    res = knn_model.predict(data)\n",
    "    for val in res:\n",
    "        if val == 1:\n",
    "            total += 1\n",
    "    return total"
   ]
  },
  {
   "cell_type": "code",
   "execution_count": 24,
   "metadata": {},
   "outputs": [
    {
     "data": {
      "text/plain": [
       "7"
      ]
     },
     "execution_count": 24,
     "metadata": {},
     "output_type": "execute_result"
    }
   ],
   "source": [
    "exit_count(test_x[11: 30])"
   ]
  },
  {
   "cell_type": "code",
   "execution_count": 25,
   "metadata": {},
   "outputs": [
    {
     "data": {
      "text/plain": [
       "array([1, 1, 0, 1, 0, 1, 0, 0, 0, 0, 0, 0, 0, 1, 0, 0, 1, 0, 0])"
      ]
     },
     "execution_count": 25,
     "metadata": {},
     "output_type": "execute_result"
    }
   ],
   "source": [
    "test_y.values[11: 30]"
   ]
  }
 ],
 "metadata": {
  "kernelspec": {
   "display_name": ".venv",
   "language": "python",
   "name": "python3"
  },
  "language_info": {
   "codemirror_mode": {
    "name": "ipython",
    "version": 3
   },
   "file_extension": ".py",
   "mimetype": "text/x-python",
   "name": "python",
   "nbconvert_exporter": "python",
   "pygments_lexer": "ipython3",
   "version": "3.12.3"
  }
 },
 "nbformat": 4,
 "nbformat_minor": 2
}
