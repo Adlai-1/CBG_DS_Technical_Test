{
 "cells": [
  {
   "cell_type": "code",
   "execution_count": 1,
   "metadata": {},
   "outputs": [],
   "source": [
    "import pandas as pd"
   ]
  },
  {
   "cell_type": "code",
   "execution_count": 2,
   "metadata": {},
   "outputs": [],
   "source": [
    "# open file for ML preprocessing\n",
    "currentStaffData = pd.read_csv('Existing Staff.csv')\n",
    "exitedStaffData = pd.read_csv('Exited Staff.csv')"
   ]
  },
  {
   "cell_type": "code",
   "execution_count": 3,
   "metadata": {},
   "outputs": [
    {
     "name": "stdout",
     "output_type": "stream",
     "text": [
      "<class 'pandas.core.frame.DataFrame'>\n",
      "RangeIndex: 3500 entries, 0 to 3499\n",
      "Data columns (total 8 columns):\n",
      " #   Column            Non-Null Count  Dtype  \n",
      "---  ------            --------------  -----  \n",
      " 0   S/N               3500 non-null   int64  \n",
      " 1   Job Title         3500 non-null   object \n",
      " 2   Department        3500 non-null   object \n",
      " 3   Age               3500 non-null   int64  \n",
      " 4   Gender            3500 non-null   object \n",
      " 5   Marital Status    3500 non-null   object \n",
      " 6   Years of Service  3500 non-null   int64  \n",
      " 7   Salary            3500 non-null   float64\n",
      "dtypes: float64(1), int64(3), object(4)\n",
      "memory usage: 218.9+ KB\n"
     ]
    }
   ],
   "source": [
    "# analysis for currentStaffData and exitedStaffData\n",
    "currentStaffData.info()"
   ]
  },
  {
   "cell_type": "code",
   "execution_count": 4,
   "metadata": {},
   "outputs": [
    {
     "name": "stdout",
     "output_type": "stream",
     "text": [
      "<class 'pandas.core.frame.DataFrame'>\n",
      "RangeIndex: 820 entries, 0 to 819\n",
      "Data columns (total 10 columns):\n",
      " #   Column            Non-Null Count  Dtype  \n",
      "---  ------            --------------  -----  \n",
      " 0   Job Title         820 non-null    object \n",
      " 1   Department        820 non-null    object \n",
      " 2   Age               820 non-null    int64  \n",
      " 3   Gender            820 non-null    object \n",
      " 4   Marital Status    820 non-null    object \n",
      " 5   Years of Service  820 non-null    int64  \n",
      " 6   Mode of Exit      820 non-null    object \n",
      " 7   Date of Exit      820 non-null    object \n",
      " 8   Reasons For Exit  820 non-null    object \n",
      " 9   Salary            820 non-null    float64\n",
      "dtypes: float64(1), int64(2), object(7)\n",
      "memory usage: 64.2+ KB\n"
     ]
    }
   ],
   "source": [
    "exitedStaffData.info()"
   ]
  },
  {
   "cell_type": "code",
   "execution_count": 7,
   "metadata": {},
   "outputs": [],
   "source": [
    "# find and remove duplicates\n",
    "currentStaffData.duplicated().count().sum()\n",
    "currentStaffData.drop_duplicates(inplace=True)"
   ]
  },
  {
   "cell_type": "code",
   "execution_count": 8,
   "metadata": {},
   "outputs": [],
   "source": [
    "exitedStaffData.duplicated().count().sum()\n",
    "exitedStaffData.drop_duplicates(inplace=True)"
   ]
  },
  {
   "cell_type": "code",
   "execution_count": 9,
   "metadata": {},
   "outputs": [
    {
     "data": {
      "text/html": [
       "<div>\n",
       "<style scoped>\n",
       "    .dataframe tbody tr th:only-of-type {\n",
       "        vertical-align: middle;\n",
       "    }\n",
       "\n",
       "    .dataframe tbody tr th {\n",
       "        vertical-align: top;\n",
       "    }\n",
       "\n",
       "    .dataframe thead th {\n",
       "        text-align: right;\n",
       "    }\n",
       "</style>\n",
       "<table border=\"1\" class=\"dataframe\">\n",
       "  <thead>\n",
       "    <tr style=\"text-align: right;\">\n",
       "      <th></th>\n",
       "      <th>S/N</th>\n",
       "      <th>Job Title</th>\n",
       "      <th>Department</th>\n",
       "      <th>Age</th>\n",
       "      <th>Gender</th>\n",
       "      <th>Marital Status</th>\n",
       "      <th>Years of Service</th>\n",
       "      <th>Salary</th>\n",
       "    </tr>\n",
       "  </thead>\n",
       "  <tbody>\n",
       "    <tr>\n",
       "      <th>0</th>\n",
       "      <td>1</td>\n",
       "      <td>HR Specialist</td>\n",
       "      <td>Human Resources</td>\n",
       "      <td>25</td>\n",
       "      <td>Male</td>\n",
       "      <td>Married</td>\n",
       "      <td>2</td>\n",
       "      <td>537.25</td>\n",
       "    </tr>\n",
       "    <tr>\n",
       "      <th>1</th>\n",
       "      <td>2</td>\n",
       "      <td>Project Manager</td>\n",
       "      <td>Sales &amp; Marketing</td>\n",
       "      <td>53</td>\n",
       "      <td>Male</td>\n",
       "      <td>Single</td>\n",
       "      <td>8</td>\n",
       "      <td>154.13</td>\n",
       "    </tr>\n",
       "    <tr>\n",
       "      <th>2</th>\n",
       "      <td>3</td>\n",
       "      <td>Billing Specialist</td>\n",
       "      <td>IT &amp; Software</td>\n",
       "      <td>44</td>\n",
       "      <td>Female</td>\n",
       "      <td>Married</td>\n",
       "      <td>8</td>\n",
       "      <td>368.54</td>\n",
       "    </tr>\n",
       "    <tr>\n",
       "      <th>3</th>\n",
       "      <td>4</td>\n",
       "      <td>Marketing Analyst</td>\n",
       "      <td>Data Analytics</td>\n",
       "      <td>37</td>\n",
       "      <td>Female</td>\n",
       "      <td>Married</td>\n",
       "      <td>7</td>\n",
       "      <td>269.92</td>\n",
       "    </tr>\n",
       "    <tr>\n",
       "      <th>4</th>\n",
       "      <td>5</td>\n",
       "      <td>Product Manager</td>\n",
       "      <td>IT &amp; Software</td>\n",
       "      <td>30</td>\n",
       "      <td>Male</td>\n",
       "      <td>Single</td>\n",
       "      <td>4</td>\n",
       "      <td>131.17</td>\n",
       "    </tr>\n",
       "  </tbody>\n",
       "</table>\n",
       "</div>"
      ],
      "text/plain": [
       "   S/N           Job Title         Department  Age  Gender Marital Status  \\\n",
       "0    1       HR Specialist    Human Resources   25    Male        Married   \n",
       "1    2     Project Manager  Sales & Marketing   53    Male         Single   \n",
       "2    3  Billing Specialist      IT & Software   44  Female        Married   \n",
       "3    4   Marketing Analyst     Data Analytics   37  Female        Married   \n",
       "4    5     Product Manager      IT & Software   30    Male         Single   \n",
       "\n",
       "   Years of Service  Salary  \n",
       "0                 2  537.25  \n",
       "1                 8  154.13  \n",
       "2                 8  368.54  \n",
       "3                 7  269.92  \n",
       "4                 4  131.17  "
      ]
     },
     "execution_count": 9,
     "metadata": {},
     "output_type": "execute_result"
    }
   ],
   "source": [
    "currentStaffData.head()"
   ]
  },
  {
   "cell_type": "code",
   "execution_count": 10,
   "metadata": {},
   "outputs": [
    {
     "data": {
      "text/html": [
       "<div>\n",
       "<style scoped>\n",
       "    .dataframe tbody tr th:only-of-type {\n",
       "        vertical-align: middle;\n",
       "    }\n",
       "\n",
       "    .dataframe tbody tr th {\n",
       "        vertical-align: top;\n",
       "    }\n",
       "\n",
       "    .dataframe thead th {\n",
       "        text-align: right;\n",
       "    }\n",
       "</style>\n",
       "<table border=\"1\" class=\"dataframe\">\n",
       "  <thead>\n",
       "    <tr style=\"text-align: right;\">\n",
       "      <th></th>\n",
       "      <th>Job Title</th>\n",
       "      <th>Department</th>\n",
       "      <th>Age</th>\n",
       "      <th>Gender</th>\n",
       "      <th>Marital Status</th>\n",
       "      <th>Years of Service</th>\n",
       "      <th>Mode of Exit</th>\n",
       "      <th>Date of Exit</th>\n",
       "      <th>Reasons For Exit</th>\n",
       "      <th>Salary</th>\n",
       "    </tr>\n",
       "  </thead>\n",
       "  <tbody>\n",
       "    <tr>\n",
       "      <th>0</th>\n",
       "      <td>Marketing Analyst</td>\n",
       "      <td>Field Operations</td>\n",
       "      <td>31</td>\n",
       "      <td>Female</td>\n",
       "      <td>Single</td>\n",
       "      <td>4</td>\n",
       "      <td>Termination</td>\n",
       "      <td>9/30/2024</td>\n",
       "      <td>Policy violation</td>\n",
       "      <td>338.541667</td>\n",
       "    </tr>\n",
       "    <tr>\n",
       "      <th>1</th>\n",
       "      <td>Marketing Analyst</td>\n",
       "      <td>Field Operations</td>\n",
       "      <td>60</td>\n",
       "      <td>Female</td>\n",
       "      <td>Single</td>\n",
       "      <td>6</td>\n",
       "      <td>Retirement</td>\n",
       "      <td>8/21/2023</td>\n",
       "      <td>Work-life balance</td>\n",
       "      <td>357.333333</td>\n",
       "    </tr>\n",
       "    <tr>\n",
       "      <th>2</th>\n",
       "      <td>Marketing Analyst</td>\n",
       "      <td>Sales &amp; Marketing</td>\n",
       "      <td>60</td>\n",
       "      <td>Male</td>\n",
       "      <td>Married</td>\n",
       "      <td>5</td>\n",
       "      <td>Retirement</td>\n",
       "      <td>1/11/2024</td>\n",
       "      <td>End of service</td>\n",
       "      <td>594.416667</td>\n",
       "    </tr>\n",
       "    <tr>\n",
       "      <th>3</th>\n",
       "      <td>Software Developer</td>\n",
       "      <td>Data Analytics</td>\n",
       "      <td>26</td>\n",
       "      <td>Female</td>\n",
       "      <td>Married</td>\n",
       "      <td>7</td>\n",
       "      <td>Termination</td>\n",
       "      <td>5/2/2023</td>\n",
       "      <td>End of service</td>\n",
       "      <td>439.583333</td>\n",
       "    </tr>\n",
       "    <tr>\n",
       "      <th>4</th>\n",
       "      <td>Sales Executive</td>\n",
       "      <td>Project Management</td>\n",
       "      <td>60</td>\n",
       "      <td>Female</td>\n",
       "      <td>Married</td>\n",
       "      <td>2</td>\n",
       "      <td>Retirement</td>\n",
       "      <td>2/14/2024</td>\n",
       "      <td>Policy violation</td>\n",
       "      <td>737.916667</td>\n",
       "    </tr>\n",
       "  </tbody>\n",
       "</table>\n",
       "</div>"
      ],
      "text/plain": [
       "            Job Title          Department  Age  Gender Marital Status  \\\n",
       "0   Marketing Analyst    Field Operations   31  Female         Single   \n",
       "1   Marketing Analyst    Field Operations   60  Female         Single   \n",
       "2   Marketing Analyst   Sales & Marketing   60    Male        Married   \n",
       "3  Software Developer      Data Analytics   26  Female        Married   \n",
       "4     Sales Executive  Project Management   60  Female        Married   \n",
       "\n",
       "   Years of Service Mode of Exit Date of Exit   Reasons For Exit      Salary  \n",
       "0                 4  Termination    9/30/2024   Policy violation  338.541667  \n",
       "1                 6   Retirement    8/21/2023  Work-life balance  357.333333  \n",
       "2                 5   Retirement    1/11/2024     End of service  594.416667  \n",
       "3                 7  Termination     5/2/2023     End of service  439.583333  \n",
       "4                 2   Retirement    2/14/2024   Policy violation  737.916667  "
      ]
     },
     "execution_count": 10,
     "metadata": {},
     "output_type": "execute_result"
    }
   ],
   "source": [
    "exitedStaffData.head()"
   ]
  },
  {
   "cell_type": "code",
   "execution_count": 11,
   "metadata": {},
   "outputs": [],
   "source": [
    "# round salary values to 2 d.p.\n",
    "exitedStaffData['Salary'] = exitedStaffData['Salary'].round(2)\n",
    "currentStaffData['Salary'] = currentStaffData['Salary'].round(2)"
   ]
  },
  {
   "cell_type": "code",
   "execution_count": 12,
   "metadata": {},
   "outputs": [],
   "source": [
    "# find and remove null values\n",
    "currentStaffData.isna().sum()\n",
    "currentStaffData.dropna(inplace=True)"
   ]
  },
  {
   "cell_type": "code",
   "execution_count": 13,
   "metadata": {},
   "outputs": [],
   "source": [
    "exitedStaffData.isna().sum()\n",
    "exitedStaffData.dropna(inplace=True)"
   ]
  },
  {
   "cell_type": "code",
   "execution_count": 14,
   "metadata": {},
   "outputs": [
    {
     "data": {
      "text/plain": [
       "S/N                 3500\n",
       "Job Title             12\n",
       "Department             9\n",
       "Age                   37\n",
       "Gender                 2\n",
       "Marital Status         2\n",
       "Years of Service       8\n",
       "Salary              2925\n",
       "dtype: int64"
      ]
     },
     "execution_count": 14,
     "metadata": {},
     "output_type": "execute_result"
    }
   ],
   "source": [
    "# determine unique values\n",
    "currentStaffData.nunique()"
   ]
  },
  {
   "cell_type": "code",
   "execution_count": 15,
   "metadata": {},
   "outputs": [
    {
     "data": {
      "text/plain": [
       "Job Title            12\n",
       "Department            9\n",
       "Age                  39\n",
       "Gender                2\n",
       "Marital Status        2\n",
       "Years of Service     10\n",
       "Mode of Exit          3\n",
       "Date of Exit        497\n",
       "Reasons For Exit      9\n",
       "Salary              782\n",
       "dtype: int64"
      ]
     },
     "execution_count": 15,
     "metadata": {},
     "output_type": "execute_result"
    }
   ],
   "source": [
    "exitedStaffData.nunique()"
   ]
  },
  {
   "cell_type": "code",
   "execution_count": 16,
   "metadata": {},
   "outputs": [
    {
     "data": {
      "text/plain": [
       "array(['HR Specialist', 'Project Manager', 'Billing Specialist',\n",
       "       'Marketing Analyst', 'Product Manager', 'Data Scientist',\n",
       "       'Customer Support Agent', 'IT Support Engineer', 'Sales Executive',\n",
       "       'Telecom Technician', 'Network Engineer', 'Software Developer'],\n",
       "      dtype=object)"
      ]
     },
     "execution_count": 16,
     "metadata": {},
     "output_type": "execute_result"
    }
   ],
   "source": [
    "# deep dive into unique values\n",
    "currentStaffData['Job Title'].unique()"
   ]
  },
  {
   "cell_type": "code",
   "execution_count": 17,
   "metadata": {},
   "outputs": [
    {
     "data": {
      "text/plain": [
       "array(['Marketing Analyst', 'Software Developer', 'Sales Executive',\n",
       "       'HR Specialist', 'Network Engineer', 'Telecom Technician',\n",
       "       'IT Support Engineer', 'Billing Specialist', 'Data Scientist',\n",
       "       'Customer Support Agent', 'Project Manager', 'Product Manager'],\n",
       "      dtype=object)"
      ]
     },
     "execution_count": 17,
     "metadata": {},
     "output_type": "execute_result"
    }
   ],
   "source": [
    "exitedStaffData['Job Title'].unique()"
   ]
  },
  {
   "cell_type": "code",
   "execution_count": 18,
   "metadata": {},
   "outputs": [
    {
     "data": {
      "text/plain": [
       "array(['Human Resources', 'Sales & Marketing', 'IT & Software',\n",
       "       'Data Analytics', 'Network Operations', 'Field Operations',\n",
       "       'Customer Service', 'Billing', 'Project Management'], dtype=object)"
      ]
     },
     "execution_count": 18,
     "metadata": {},
     "output_type": "execute_result"
    }
   ],
   "source": [
    "currentStaffData['Department'].unique()"
   ]
  },
  {
   "cell_type": "code",
   "execution_count": 19,
   "metadata": {},
   "outputs": [
    {
     "data": {
      "text/plain": [
       "array(['Field Operations', 'Sales & Marketing', 'Data Analytics',\n",
       "       'Project Management', 'Customer Service', 'Network Operations',\n",
       "       'Human Resources', 'Billing', 'IT & Software'], dtype=object)"
      ]
     },
     "execution_count": 19,
     "metadata": {},
     "output_type": "execute_result"
    }
   ],
   "source": [
    "exitedStaffData['Department'].unique()"
   ]
  },
  {
   "cell_type": "code",
   "execution_count": 20,
   "metadata": {},
   "outputs": [
    {
     "name": "stdout",
     "output_type": "stream",
     "text": [
      "Age range: 22 - 58\n"
     ]
    }
   ],
   "source": [
    "# Age range\n",
    "print(f\"Age range: {currentStaffData['Age'].min()} - {currentStaffData['Age'].max()}\")"
   ]
  },
  {
   "cell_type": "code",
   "execution_count": 21,
   "metadata": {},
   "outputs": [
    {
     "name": "stdout",
     "output_type": "stream",
     "text": [
      "Age range: 22 - 60\n"
     ]
    }
   ],
   "source": [
    "print(f\"Age range: {exitedStaffData['Age'].min()} - {exitedStaffData['Age'].max()}\")"
   ]
  },
  {
   "cell_type": "code",
   "execution_count": 22,
   "metadata": {},
   "outputs": [
    {
     "name": "stdout",
     "output_type": "stream",
     "text": [
      "Age range: 1 - 8\n"
     ]
    }
   ],
   "source": [
    "# Years of service range\n",
    "print(f\"Age range: {currentStaffData['Years of Service'].min()} - {currentStaffData['Years of Service'].max()}\")"
   ]
  },
  {
   "cell_type": "code",
   "execution_count": 23,
   "metadata": {},
   "outputs": [
    {
     "name": "stdout",
     "output_type": "stream",
     "text": [
      "Age range: 1 - 10\n"
     ]
    }
   ],
   "source": [
    "print(f\"Age range: {exitedStaffData['Years of Service'].min()} - {exitedStaffData['Years of Service'].max()}\")"
   ]
  },
  {
   "cell_type": "code",
   "execution_count": 24,
   "metadata": {},
   "outputs": [
    {
     "data": {
      "text/plain": [
       "np.float64(5.000571428571429)"
      ]
     },
     "execution_count": 24,
     "metadata": {},
     "output_type": "execute_result"
    }
   ],
   "source": [
    "# Mean years of service\n",
    "currentStaffData['Years of Service'].mean()"
   ]
  },
  {
   "cell_type": "code",
   "execution_count": 25,
   "metadata": {},
   "outputs": [
    {
     "data": {
      "text/plain": [
       "np.float64(4.842682926829268)"
      ]
     },
     "execution_count": 25,
     "metadata": {},
     "output_type": "execute_result"
    }
   ],
   "source": [
    "exitedStaffData['Years of Service'].mean()"
   ]
  },
  {
   "cell_type": "code",
   "execution_count": 26,
   "metadata": {},
   "outputs": [
    {
     "data": {
      "text/plain": [
       "array(['Termination', 'Retirement', 'Resignation'], dtype=object)"
      ]
     },
     "execution_count": 26,
     "metadata": {},
     "output_type": "execute_result"
    }
   ],
   "source": [
    "exitedStaffData['Mode of Exit'].unique()"
   ]
  },
  {
   "cell_type": "code",
   "execution_count": 27,
   "metadata": {},
   "outputs": [
    {
     "data": {
      "text/plain": [
       "array(['Policy violation', 'Work-life balance', 'End of service',\n",
       "       'Performance issues', 'Better opportunity', 'Personal reasons',\n",
       "       'Restructuring', 'Career growth', 'Pursuing education'],\n",
       "      dtype=object)"
      ]
     },
     "execution_count": 27,
     "metadata": {},
     "output_type": "execute_result"
    }
   ],
   "source": [
    "exitedStaffData['Reasons For Exit'].unique()"
   ]
  },
  {
   "cell_type": "code",
   "execution_count": 28,
   "metadata": {},
   "outputs": [
    {
     "data": {
      "text/plain": [
       "(86, 10)"
      ]
     },
     "execution_count": 28,
     "metadata": {},
     "output_type": "execute_result"
    }
   ],
   "source": [
    "exitedStaffData[exitedStaffData['Reasons For Exit'] == 'Career growth'].shape"
   ]
  },
  {
   "cell_type": "code",
   "execution_count": 29,
   "metadata": {},
   "outputs": [
    {
     "name": "stdout",
     "output_type": "stream",
     "text": [
      "96 workers have 'Policy violation' as the reason for their exit\n",
      "90 workers have 'Work-life balance' as the reason for their exit\n",
      "94 workers have 'End of service' as the reason for their exit\n",
      "85 workers have 'Performance issues' as the reason for their exit\n",
      "105 workers have 'Better opportunity' as the reason for their exit\n",
      "84 workers have 'Personal reasons' as the reason for their exit\n",
      "100 workers have 'Restructuring' as the reason for their exit\n",
      "86 workers have 'Career growth' as the reason for their exit\n",
      "80 workers have 'Pursuing education' as the reason for their exit\n"
     ]
    }
   ],
   "source": [
    "# determine the total number of customers that exited based on the reasons\n",
    "reasons = exitedStaffData['Reasons For Exit'].unique()\n",
    "\n",
    "for reason in reasons:\n",
    "    count = exitedStaffData[exitedStaffData['Reasons For Exit'] == str(reason)].shape[0]\n",
    "    print(f\"{count} workers have '{reason}' as the reason for their exit\")"
   ]
  },
  {
   "cell_type": "code",
   "execution_count": 30,
   "metadata": {},
   "outputs": [
    {
     "name": "stdout",
     "output_type": "stream",
     "text": [
      "261 workers have 'Termination' as their mode of exit\n",
      "263 workers have 'Retirement' as their mode of exit\n",
      "296 workers have 'Resignation' as their mode of exit\n"
     ]
    }
   ],
   "source": [
    "modes = exitedStaffData['Mode of Exit'].unique()\n",
    "\n",
    "for mode in modes:\n",
    "    count = exitedStaffData[exitedStaffData['Mode of Exit'] == str(mode)].shape[0]\n",
    "    print(f\"{count} workers have '{mode}' as their mode of exit\")"
   ]
  },
  {
   "cell_type": "code",
   "execution_count": 31,
   "metadata": {},
   "outputs": [],
   "source": [
    "# remove unneeded columns in currentStaffData and exitedStaffData\n",
    "currentStaffData.drop(columns=['S/N'], inplace=True)\n",
    "exitedStaffData.drop(columns=['Date of Exit'], inplace=True)"
   ]
  },
  {
   "cell_type": "code",
   "execution_count": 32,
   "metadata": {},
   "outputs": [
    {
     "data": {
      "text/html": [
       "<div>\n",
       "<style scoped>\n",
       "    .dataframe tbody tr th:only-of-type {\n",
       "        vertical-align: middle;\n",
       "    }\n",
       "\n",
       "    .dataframe tbody tr th {\n",
       "        vertical-align: top;\n",
       "    }\n",
       "\n",
       "    .dataframe thead th {\n",
       "        text-align: right;\n",
       "    }\n",
       "</style>\n",
       "<table border=\"1\" class=\"dataframe\">\n",
       "  <thead>\n",
       "    <tr style=\"text-align: right;\">\n",
       "      <th></th>\n",
       "      <th>Job Title</th>\n",
       "      <th>Department</th>\n",
       "      <th>Age</th>\n",
       "      <th>Gender</th>\n",
       "      <th>Marital Status</th>\n",
       "      <th>Years of Service</th>\n",
       "      <th>Salary</th>\n",
       "    </tr>\n",
       "  </thead>\n",
       "  <tbody>\n",
       "    <tr>\n",
       "      <th>0</th>\n",
       "      <td>HR Specialist</td>\n",
       "      <td>Human Resources</td>\n",
       "      <td>25</td>\n",
       "      <td>Male</td>\n",
       "      <td>Married</td>\n",
       "      <td>2</td>\n",
       "      <td>537.25</td>\n",
       "    </tr>\n",
       "    <tr>\n",
       "      <th>1</th>\n",
       "      <td>Project Manager</td>\n",
       "      <td>Sales &amp; Marketing</td>\n",
       "      <td>53</td>\n",
       "      <td>Male</td>\n",
       "      <td>Single</td>\n",
       "      <td>8</td>\n",
       "      <td>154.13</td>\n",
       "    </tr>\n",
       "    <tr>\n",
       "      <th>2</th>\n",
       "      <td>Billing Specialist</td>\n",
       "      <td>IT &amp; Software</td>\n",
       "      <td>44</td>\n",
       "      <td>Female</td>\n",
       "      <td>Married</td>\n",
       "      <td>8</td>\n",
       "      <td>368.54</td>\n",
       "    </tr>\n",
       "    <tr>\n",
       "      <th>3</th>\n",
       "      <td>Marketing Analyst</td>\n",
       "      <td>Data Analytics</td>\n",
       "      <td>37</td>\n",
       "      <td>Female</td>\n",
       "      <td>Married</td>\n",
       "      <td>7</td>\n",
       "      <td>269.92</td>\n",
       "    </tr>\n",
       "    <tr>\n",
       "      <th>4</th>\n",
       "      <td>Product Manager</td>\n",
       "      <td>IT &amp; Software</td>\n",
       "      <td>30</td>\n",
       "      <td>Male</td>\n",
       "      <td>Single</td>\n",
       "      <td>4</td>\n",
       "      <td>131.17</td>\n",
       "    </tr>\n",
       "  </tbody>\n",
       "</table>\n",
       "</div>"
      ],
      "text/plain": [
       "            Job Title         Department  Age  Gender Marital Status  \\\n",
       "0       HR Specialist    Human Resources   25    Male        Married   \n",
       "1     Project Manager  Sales & Marketing   53    Male         Single   \n",
       "2  Billing Specialist      IT & Software   44  Female        Married   \n",
       "3   Marketing Analyst     Data Analytics   37  Female        Married   \n",
       "4     Product Manager      IT & Software   30    Male         Single   \n",
       "\n",
       "   Years of Service  Salary  \n",
       "0                 2  537.25  \n",
       "1                 8  154.13  \n",
       "2                 8  368.54  \n",
       "3                 7  269.92  \n",
       "4                 4  131.17  "
      ]
     },
     "execution_count": 32,
     "metadata": {},
     "output_type": "execute_result"
    }
   ],
   "source": [
    "# view new datasets\n",
    "currentStaffData.head()"
   ]
  },
  {
   "cell_type": "code",
   "execution_count": 33,
   "metadata": {},
   "outputs": [
    {
     "data": {
      "text/html": [
       "<div>\n",
       "<style scoped>\n",
       "    .dataframe tbody tr th:only-of-type {\n",
       "        vertical-align: middle;\n",
       "    }\n",
       "\n",
       "    .dataframe tbody tr th {\n",
       "        vertical-align: top;\n",
       "    }\n",
       "\n",
       "    .dataframe thead th {\n",
       "        text-align: right;\n",
       "    }\n",
       "</style>\n",
       "<table border=\"1\" class=\"dataframe\">\n",
       "  <thead>\n",
       "    <tr style=\"text-align: right;\">\n",
       "      <th></th>\n",
       "      <th>Job Title</th>\n",
       "      <th>Department</th>\n",
       "      <th>Age</th>\n",
       "      <th>Gender</th>\n",
       "      <th>Marital Status</th>\n",
       "      <th>Years of Service</th>\n",
       "      <th>Mode of Exit</th>\n",
       "      <th>Reasons For Exit</th>\n",
       "      <th>Salary</th>\n",
       "    </tr>\n",
       "  </thead>\n",
       "  <tbody>\n",
       "    <tr>\n",
       "      <th>0</th>\n",
       "      <td>Marketing Analyst</td>\n",
       "      <td>Field Operations</td>\n",
       "      <td>31</td>\n",
       "      <td>Female</td>\n",
       "      <td>Single</td>\n",
       "      <td>4</td>\n",
       "      <td>Termination</td>\n",
       "      <td>Policy violation</td>\n",
       "      <td>338.54</td>\n",
       "    </tr>\n",
       "    <tr>\n",
       "      <th>1</th>\n",
       "      <td>Marketing Analyst</td>\n",
       "      <td>Field Operations</td>\n",
       "      <td>60</td>\n",
       "      <td>Female</td>\n",
       "      <td>Single</td>\n",
       "      <td>6</td>\n",
       "      <td>Retirement</td>\n",
       "      <td>Work-life balance</td>\n",
       "      <td>357.33</td>\n",
       "    </tr>\n",
       "    <tr>\n",
       "      <th>2</th>\n",
       "      <td>Marketing Analyst</td>\n",
       "      <td>Sales &amp; Marketing</td>\n",
       "      <td>60</td>\n",
       "      <td>Male</td>\n",
       "      <td>Married</td>\n",
       "      <td>5</td>\n",
       "      <td>Retirement</td>\n",
       "      <td>End of service</td>\n",
       "      <td>594.42</td>\n",
       "    </tr>\n",
       "    <tr>\n",
       "      <th>3</th>\n",
       "      <td>Software Developer</td>\n",
       "      <td>Data Analytics</td>\n",
       "      <td>26</td>\n",
       "      <td>Female</td>\n",
       "      <td>Married</td>\n",
       "      <td>7</td>\n",
       "      <td>Termination</td>\n",
       "      <td>End of service</td>\n",
       "      <td>439.58</td>\n",
       "    </tr>\n",
       "    <tr>\n",
       "      <th>4</th>\n",
       "      <td>Sales Executive</td>\n",
       "      <td>Project Management</td>\n",
       "      <td>60</td>\n",
       "      <td>Female</td>\n",
       "      <td>Married</td>\n",
       "      <td>2</td>\n",
       "      <td>Retirement</td>\n",
       "      <td>Policy violation</td>\n",
       "      <td>737.92</td>\n",
       "    </tr>\n",
       "  </tbody>\n",
       "</table>\n",
       "</div>"
      ],
      "text/plain": [
       "            Job Title          Department  Age  Gender Marital Status  \\\n",
       "0   Marketing Analyst    Field Operations   31  Female         Single   \n",
       "1   Marketing Analyst    Field Operations   60  Female         Single   \n",
       "2   Marketing Analyst   Sales & Marketing   60    Male        Married   \n",
       "3  Software Developer      Data Analytics   26  Female        Married   \n",
       "4     Sales Executive  Project Management   60  Female        Married   \n",
       "\n",
       "   Years of Service Mode of Exit   Reasons For Exit  Salary  \n",
       "0                 4  Termination   Policy violation  338.54  \n",
       "1                 6   Retirement  Work-life balance  357.33  \n",
       "2                 5   Retirement     End of service  594.42  \n",
       "3                 7  Termination     End of service  439.58  \n",
       "4                 2   Retirement   Policy violation  737.92  "
      ]
     },
     "execution_count": 33,
     "metadata": {},
     "output_type": "execute_result"
    }
   ],
   "source": [
    "exitedStaffData.head()"
   ]
  },
  {
   "cell_type": "code",
   "execution_count": 34,
   "metadata": {},
   "outputs": [
    {
     "name": "stdout",
     "output_type": "stream",
     "text": [
      "currentStaffData size: 3500 exitedStaffData size: 820\n"
     ]
    }
   ],
   "source": [
    "# current dataset is inbalanced (i.e more positives than negatives)\n",
    "print(f'currentStaffData size: {currentStaffData.shape[0]} exitedStaffData size: {exitedStaffData.shape[0]}')"
   ]
  },
  {
   "cell_type": "code",
   "execution_count": 35,
   "metadata": {},
   "outputs": [],
   "source": [
    "# remove more unwanted columns in exitedStaffData\n",
    "# its needed for the modelling stage\n",
    "exitedStaffData.drop(columns=['Mode of Exit', 'Reasons For Exit'], inplace=True)"
   ]
  },
  {
   "cell_type": "code",
   "execution_count": 36,
   "metadata": {},
   "outputs": [
    {
     "data": {
      "text/html": [
       "<div>\n",
       "<style scoped>\n",
       "    .dataframe tbody tr th:only-of-type {\n",
       "        vertical-align: middle;\n",
       "    }\n",
       "\n",
       "    .dataframe tbody tr th {\n",
       "        vertical-align: top;\n",
       "    }\n",
       "\n",
       "    .dataframe thead th {\n",
       "        text-align: right;\n",
       "    }\n",
       "</style>\n",
       "<table border=\"1\" class=\"dataframe\">\n",
       "  <thead>\n",
       "    <tr style=\"text-align: right;\">\n",
       "      <th></th>\n",
       "      <th>Job Title</th>\n",
       "      <th>Department</th>\n",
       "      <th>Age</th>\n",
       "      <th>Gender</th>\n",
       "      <th>Marital Status</th>\n",
       "      <th>Years of Service</th>\n",
       "      <th>Salary</th>\n",
       "    </tr>\n",
       "  </thead>\n",
       "  <tbody>\n",
       "    <tr>\n",
       "      <th>0</th>\n",
       "      <td>Marketing Analyst</td>\n",
       "      <td>Field Operations</td>\n",
       "      <td>31</td>\n",
       "      <td>Female</td>\n",
       "      <td>Single</td>\n",
       "      <td>4</td>\n",
       "      <td>338.54</td>\n",
       "    </tr>\n",
       "    <tr>\n",
       "      <th>1</th>\n",
       "      <td>Marketing Analyst</td>\n",
       "      <td>Field Operations</td>\n",
       "      <td>60</td>\n",
       "      <td>Female</td>\n",
       "      <td>Single</td>\n",
       "      <td>6</td>\n",
       "      <td>357.33</td>\n",
       "    </tr>\n",
       "    <tr>\n",
       "      <th>2</th>\n",
       "      <td>Marketing Analyst</td>\n",
       "      <td>Sales &amp; Marketing</td>\n",
       "      <td>60</td>\n",
       "      <td>Male</td>\n",
       "      <td>Married</td>\n",
       "      <td>5</td>\n",
       "      <td>594.42</td>\n",
       "    </tr>\n",
       "    <tr>\n",
       "      <th>3</th>\n",
       "      <td>Software Developer</td>\n",
       "      <td>Data Analytics</td>\n",
       "      <td>26</td>\n",
       "      <td>Female</td>\n",
       "      <td>Married</td>\n",
       "      <td>7</td>\n",
       "      <td>439.58</td>\n",
       "    </tr>\n",
       "    <tr>\n",
       "      <th>4</th>\n",
       "      <td>Sales Executive</td>\n",
       "      <td>Project Management</td>\n",
       "      <td>60</td>\n",
       "      <td>Female</td>\n",
       "      <td>Married</td>\n",
       "      <td>2</td>\n",
       "      <td>737.92</td>\n",
       "    </tr>\n",
       "  </tbody>\n",
       "</table>\n",
       "</div>"
      ],
      "text/plain": [
       "            Job Title          Department  Age  Gender Marital Status  \\\n",
       "0   Marketing Analyst    Field Operations   31  Female         Single   \n",
       "1   Marketing Analyst    Field Operations   60  Female         Single   \n",
       "2   Marketing Analyst   Sales & Marketing   60    Male        Married   \n",
       "3  Software Developer      Data Analytics   26  Female        Married   \n",
       "4     Sales Executive  Project Management   60  Female        Married   \n",
       "\n",
       "   Years of Service  Salary  \n",
       "0                 4  338.54  \n",
       "1                 6  357.33  \n",
       "2                 5  594.42  \n",
       "3                 7  439.58  \n",
       "4                 2  737.92  "
      ]
     },
     "execution_count": 36,
     "metadata": {},
     "output_type": "execute_result"
    }
   ],
   "source": [
    "exitedStaffData.head()"
   ]
  },
  {
   "cell_type": "code",
   "execution_count": 37,
   "metadata": {},
   "outputs": [],
   "source": [
    "# append a new column for model prediction\n",
    "# should be straight forward since we have two datasets of two unique different classes\n",
    "# i.e. current workers and exited workers\n",
    "currentStaffData['Exited'] = 0\n",
    "exitedStaffData['Exited'] = 1"
   ]
  },
  {
   "cell_type": "code",
   "execution_count": 38,
   "metadata": {},
   "outputs": [
    {
     "data": {
      "text/html": [
       "<div>\n",
       "<style scoped>\n",
       "    .dataframe tbody tr th:only-of-type {\n",
       "        vertical-align: middle;\n",
       "    }\n",
       "\n",
       "    .dataframe tbody tr th {\n",
       "        vertical-align: top;\n",
       "    }\n",
       "\n",
       "    .dataframe thead th {\n",
       "        text-align: right;\n",
       "    }\n",
       "</style>\n",
       "<table border=\"1\" class=\"dataframe\">\n",
       "  <thead>\n",
       "    <tr style=\"text-align: right;\">\n",
       "      <th></th>\n",
       "      <th>Job Title</th>\n",
       "      <th>Department</th>\n",
       "      <th>Age</th>\n",
       "      <th>Gender</th>\n",
       "      <th>Marital Status</th>\n",
       "      <th>Years of Service</th>\n",
       "      <th>Salary</th>\n",
       "      <th>Exited</th>\n",
       "    </tr>\n",
       "  </thead>\n",
       "  <tbody>\n",
       "    <tr>\n",
       "      <th>0</th>\n",
       "      <td>HR Specialist</td>\n",
       "      <td>Human Resources</td>\n",
       "      <td>25</td>\n",
       "      <td>Male</td>\n",
       "      <td>Married</td>\n",
       "      <td>2</td>\n",
       "      <td>537.25</td>\n",
       "      <td>0</td>\n",
       "    </tr>\n",
       "    <tr>\n",
       "      <th>1</th>\n",
       "      <td>Project Manager</td>\n",
       "      <td>Sales &amp; Marketing</td>\n",
       "      <td>53</td>\n",
       "      <td>Male</td>\n",
       "      <td>Single</td>\n",
       "      <td>8</td>\n",
       "      <td>154.13</td>\n",
       "      <td>0</td>\n",
       "    </tr>\n",
       "    <tr>\n",
       "      <th>2</th>\n",
       "      <td>Billing Specialist</td>\n",
       "      <td>IT &amp; Software</td>\n",
       "      <td>44</td>\n",
       "      <td>Female</td>\n",
       "      <td>Married</td>\n",
       "      <td>8</td>\n",
       "      <td>368.54</td>\n",
       "      <td>0</td>\n",
       "    </tr>\n",
       "    <tr>\n",
       "      <th>3</th>\n",
       "      <td>Marketing Analyst</td>\n",
       "      <td>Data Analytics</td>\n",
       "      <td>37</td>\n",
       "      <td>Female</td>\n",
       "      <td>Married</td>\n",
       "      <td>7</td>\n",
       "      <td>269.92</td>\n",
       "      <td>0</td>\n",
       "    </tr>\n",
       "    <tr>\n",
       "      <th>4</th>\n",
       "      <td>Product Manager</td>\n",
       "      <td>IT &amp; Software</td>\n",
       "      <td>30</td>\n",
       "      <td>Male</td>\n",
       "      <td>Single</td>\n",
       "      <td>4</td>\n",
       "      <td>131.17</td>\n",
       "      <td>0</td>\n",
       "    </tr>\n",
       "  </tbody>\n",
       "</table>\n",
       "</div>"
      ],
      "text/plain": [
       "            Job Title         Department  Age  Gender Marital Status  \\\n",
       "0       HR Specialist    Human Resources   25    Male        Married   \n",
       "1     Project Manager  Sales & Marketing   53    Male         Single   \n",
       "2  Billing Specialist      IT & Software   44  Female        Married   \n",
       "3   Marketing Analyst     Data Analytics   37  Female        Married   \n",
       "4     Product Manager      IT & Software   30    Male         Single   \n",
       "\n",
       "   Years of Service  Salary  Exited  \n",
       "0                 2  537.25       0  \n",
       "1                 8  154.13       0  \n",
       "2                 8  368.54       0  \n",
       "3                 7  269.92       0  \n",
       "4                 4  131.17       0  "
      ]
     },
     "execution_count": 38,
     "metadata": {},
     "output_type": "execute_result"
    }
   ],
   "source": [
    "currentStaffData.head()"
   ]
  },
  {
   "cell_type": "code",
   "execution_count": 39,
   "metadata": {},
   "outputs": [
    {
     "data": {
      "text/html": [
       "<div>\n",
       "<style scoped>\n",
       "    .dataframe tbody tr th:only-of-type {\n",
       "        vertical-align: middle;\n",
       "    }\n",
       "\n",
       "    .dataframe tbody tr th {\n",
       "        vertical-align: top;\n",
       "    }\n",
       "\n",
       "    .dataframe thead th {\n",
       "        text-align: right;\n",
       "    }\n",
       "</style>\n",
       "<table border=\"1\" class=\"dataframe\">\n",
       "  <thead>\n",
       "    <tr style=\"text-align: right;\">\n",
       "      <th></th>\n",
       "      <th>Job Title</th>\n",
       "      <th>Department</th>\n",
       "      <th>Age</th>\n",
       "      <th>Gender</th>\n",
       "      <th>Marital Status</th>\n",
       "      <th>Years of Service</th>\n",
       "      <th>Salary</th>\n",
       "      <th>Exited</th>\n",
       "    </tr>\n",
       "  </thead>\n",
       "  <tbody>\n",
       "    <tr>\n",
       "      <th>0</th>\n",
       "      <td>Marketing Analyst</td>\n",
       "      <td>Field Operations</td>\n",
       "      <td>31</td>\n",
       "      <td>Female</td>\n",
       "      <td>Single</td>\n",
       "      <td>4</td>\n",
       "      <td>338.54</td>\n",
       "      <td>1</td>\n",
       "    </tr>\n",
       "    <tr>\n",
       "      <th>1</th>\n",
       "      <td>Marketing Analyst</td>\n",
       "      <td>Field Operations</td>\n",
       "      <td>60</td>\n",
       "      <td>Female</td>\n",
       "      <td>Single</td>\n",
       "      <td>6</td>\n",
       "      <td>357.33</td>\n",
       "      <td>1</td>\n",
       "    </tr>\n",
       "    <tr>\n",
       "      <th>2</th>\n",
       "      <td>Marketing Analyst</td>\n",
       "      <td>Sales &amp; Marketing</td>\n",
       "      <td>60</td>\n",
       "      <td>Male</td>\n",
       "      <td>Married</td>\n",
       "      <td>5</td>\n",
       "      <td>594.42</td>\n",
       "      <td>1</td>\n",
       "    </tr>\n",
       "    <tr>\n",
       "      <th>3</th>\n",
       "      <td>Software Developer</td>\n",
       "      <td>Data Analytics</td>\n",
       "      <td>26</td>\n",
       "      <td>Female</td>\n",
       "      <td>Married</td>\n",
       "      <td>7</td>\n",
       "      <td>439.58</td>\n",
       "      <td>1</td>\n",
       "    </tr>\n",
       "    <tr>\n",
       "      <th>4</th>\n",
       "      <td>Sales Executive</td>\n",
       "      <td>Project Management</td>\n",
       "      <td>60</td>\n",
       "      <td>Female</td>\n",
       "      <td>Married</td>\n",
       "      <td>2</td>\n",
       "      <td>737.92</td>\n",
       "      <td>1</td>\n",
       "    </tr>\n",
       "  </tbody>\n",
       "</table>\n",
       "</div>"
      ],
      "text/plain": [
       "            Job Title          Department  Age  Gender Marital Status  \\\n",
       "0   Marketing Analyst    Field Operations   31  Female         Single   \n",
       "1   Marketing Analyst    Field Operations   60  Female         Single   \n",
       "2   Marketing Analyst   Sales & Marketing   60    Male        Married   \n",
       "3  Software Developer      Data Analytics   26  Female        Married   \n",
       "4     Sales Executive  Project Management   60  Female        Married   \n",
       "\n",
       "   Years of Service  Salary  Exited  \n",
       "0                 4  338.54       1  \n",
       "1                 6  357.33       1  \n",
       "2                 5  594.42       1  \n",
       "3                 7  439.58       1  \n",
       "4                 2  737.92       1  "
      ]
     },
     "execution_count": 39,
     "metadata": {},
     "output_type": "execute_result"
    }
   ],
   "source": [
    "exitedStaffData.head()"
   ]
  },
  {
   "cell_type": "code",
   "execution_count": 40,
   "metadata": {},
   "outputs": [],
   "source": [
    "# combine both currentStaffData and exitedStaffData as one\n",
    "dataset = pd.concat([currentStaffData, exitedStaffData])"
   ]
  },
  {
   "cell_type": "code",
   "execution_count": null,
   "metadata": {},
   "outputs": [
    {
     "data": {
      "text/plain": [
       "(4320, 8)"
      ]
     },
     "execution_count": 45,
     "metadata": {},
     "output_type": "execute_result"
    }
   ],
   "source": [
    "dataset.shape"
   ]
  },
  {
   "cell_type": "code",
   "execution_count": null,
   "metadata": {},
   "outputs": [],
   "source": [
    "# save combined dataset\n",
    "dataset.to_csv('Dataset.csv')"
   ]
  },
  {
   "cell_type": "code",
   "execution_count": null,
   "metadata": {},
   "outputs": [],
   "source": []
  }
 ],
 "metadata": {
  "kernelspec": {
   "display_name": ".venv",
   "language": "python",
   "name": "python3"
  },
  "language_info": {
   "codemirror_mode": {
    "name": "ipython",
    "version": 3
   },
   "file_extension": ".py",
   "mimetype": "text/x-python",
   "name": "python",
   "nbconvert_exporter": "python",
   "pygments_lexer": "ipython3",
   "version": "3.12.3"
  }
 },
 "nbformat": 4,
 "nbformat_minor": 2
}
